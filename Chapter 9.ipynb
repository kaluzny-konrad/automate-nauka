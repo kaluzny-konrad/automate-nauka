{
 "metadata": {
  "language_info": {
   "codemirror_mode": {
    "name": "ipython",
    "version": 3
   },
   "file_extension": ".py",
   "mimetype": "text/x-python",
   "name": "python",
   "nbconvert_exporter": "python",
   "pygments_lexer": "ipython3",
   "version": "3.7.9-final"
  },
  "orig_nbformat": 2,
  "kernelspec": {
   "name": "python3",
   "display_name": "Python 3"
  }
 },
 "nbformat": 4,
 "nbformat_minor": 2,
 "cells": [
  {
   "source": [
    "# Checking Path Validity"
   ],
   "cell_type": "markdown",
   "metadata": {}
  },
  {
   "cell_type": "code",
   "execution_count": 2,
   "metadata": {},
   "outputs": [
    {
     "output_type": "stream",
     "name": "stdout",
     "text": [
      "winDir.exists() True\nwinDir.is_dir() True\nwinDir.is_file() False\nnotExistsDir.exists() False\nnotExistsDir.is_dir() False\nnotExistsDir.is_file() False\ncalcFile.exists() True\ncalcFile.is_dir() False\ncalcFile.is_file() True\n"
     ]
    }
   ],
   "source": [
    "from pathlib import Path\n",
    "winDir = Path('C:/Windows')\n",
    "notExistsDir = Path('C:/This/Folder/Not/Exists')\n",
    "calcFile = Path('C:/Windows/System32/calc.exe')\n",
    "print('winDir.exists()', winDir.exists())\n",
    "print('winDir.is_dir()', winDir.is_dir())\n",
    "print('winDir.is_file()', winDir.is_file())\n",
    "print('notExistsDir.exists()', notExistsDir.exists())\n",
    "print('notExistsDir.is_dir()', notExistsDir.is_dir())\n",
    "print('notExistsDir.is_file()', notExistsDir.is_file())\n",
    "print('calcFile.exists()', calcFile.exists())\n",
    "print('calcFile.is_dir()', calcFile.is_dir())\n",
    "print('calcFile.is_file()', calcFile.is_file())"
   ]
  },
  {
   "cell_type": "code",
   "execution_count": 3,
   "metadata": {},
   "outputs": [
    {
     "output_type": "execute_result",
     "data": {
      "text/plain": [
       "'Hello, world!'"
      ]
     },
     "metadata": {},
     "execution_count": 3
    }
   ],
   "source": [
    "p = Path('spam.txt')\n",
    "p.write_text('Hello, world!')\n",
    "p.read_text()"
   ]
  },
  {
   "cell_type": "code",
   "execution_count": 6,
   "metadata": {},
   "outputs": [
    {
     "output_type": "stream",
     "name": "stdout",
     "text": [
      "<class 'shelve.DbfilenameShelf'>\n['Zophie', 'Pooka', 'Simon']\n['cats']\n[['Zophie', 'Pooka', 'Simon']]\n"
     ]
    }
   ],
   "source": [
    "import shelve\n",
    "shelfFile = shelve.open('mydata')\n",
    "cats = ['Zophie', 'Pooka', 'Simon']\n",
    "shelfFile['cats'] = cats\n",
    "shelfFile.close()\n",
    "shelfFile = shelve.open('mydata')\n",
    "print(type(shelfFile))\n",
    "print(shelfFile['cats'])\n",
    "print(list(shelfFile.keys()))\n",
    "print(list(shelfFile.values()))\n",
    "shelfFile.close()"
   ]
  },
  {
   "cell_type": "code",
   "execution_count": 7,
   "metadata": {},
   "outputs": [
    {
     "output_type": "stream",
     "name": "stdout",
     "text": [
      "[{'desc': 'chubby', 'name': 'Zophie'}, {'desc': 'fluffy', 'name': 'Pooka'}]\n"
     ]
    }
   ],
   "source": [
    "import pprint\n",
    "cats = [{'name': 'Zophie', 'desc': 'chubby'}, {'name': 'Pooka', 'desc': 'fluffy'}]\n",
    "print(pprint.pformat(cats))\n",
    "fileObj = open('myCats.py', 'w')\n",
    "fileObj.write('cats = ' + pprint.pformat(cats) + '\\n') #83\n",
    "fileObj.close()"
   ]
  },
  {
   "cell_type": "code",
   "execution_count": 8,
   "metadata": {},
   "outputs": [
    {
     "output_type": "stream",
     "name": "stdout",
     "text": [
      "[{'desc': 'chubby', 'name': 'Zophie'}, {'desc': 'fluffy', 'name': 'Pooka'}]\n{'desc': 'chubby', 'name': 'Zophie'}\nZophie\n"
     ]
    }
   ],
   "source": [
    "import myCats\n",
    "print(myCats.cats)\n",
    "print(myCats.cats[0])\n",
    "print(myCats.cats[0]['name'])"
   ]
  },
  {
   "cell_type": "code",
   "execution_count": null,
   "metadata": {},
   "outputs": [],
   "source": []
  }
 ]
}