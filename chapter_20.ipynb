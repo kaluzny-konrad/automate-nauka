{
 "metadata": {
  "language_info": {
   "codemirror_mode": {
    "name": "ipython",
    "version": 3
   },
   "file_extension": ".py",
   "mimetype": "text/x-python",
   "name": "python",
   "nbconvert_exporter": "python",
   "pygments_lexer": "ipython3",
   "version": "3.7.9-final"
  },
  "orig_nbformat": 2,
  "kernelspec": {
   "name": "python3",
   "display_name": "Python 3.7.9 64-bit",
   "metadata": {
    "interpreter": {
     "hash": "c3d0a6da78f9459a242a6bb99c45e670f72aa8336d827f1b656dfe5a7b14653a"
    }
   }
  }
 },
 "nbformat": 4,
 "nbformat_minor": 2,
 "cells": [
  {
   "cell_type": "code",
   "execution_count": 2,
   "metadata": {},
   "outputs": [],
   "source": [
    "import pyautogui"
   ]
  },
  {
   "cell_type": "code",
   "execution_count": 3,
   "metadata": {},
   "outputs": [],
   "source": [
    "wh = pyautogui.size()"
   ]
  },
  {
   "cell_type": "code",
   "execution_count": 4,
   "metadata": {},
   "outputs": [
    {
     "output_type": "execute_result",
     "data": {
      "text/plain": [
       "Size(width=1920, height=1080)"
      ]
     },
     "metadata": {},
     "execution_count": 4
    }
   ],
   "source": [
    "wh"
   ]
  },
  {
   "cell_type": "code",
   "execution_count": 5,
   "metadata": {},
   "outputs": [
    {
     "output_type": "error",
     "ename": "FailSafeException",
     "evalue": "PyAutoGUI fail-safe triggered from mouse moving to a corner of the screen. To disable this fail-safe, set pyautogui.FAILSAFE to False. DISABLING FAIL-SAFE IS NOT RECOMMENDED.",
     "traceback": [
      "\u001b[1;31m---------------------------------------------------------------------------\u001b[0m",
      "\u001b[1;31mFailSafeException\u001b[0m                         Traceback (most recent call last)",
      "\u001b[1;32m<ipython-input-5-fad4c5c34270>\u001b[0m in \u001b[0;36m<module>\u001b[1;34m\u001b[0m\n\u001b[0;32m      1\u001b[0m \u001b[1;32mfor\u001b[0m \u001b[0mi\u001b[0m \u001b[1;32min\u001b[0m \u001b[0mrange\u001b[0m\u001b[1;33m(\u001b[0m\u001b[1;36m10\u001b[0m\u001b[1;33m)\u001b[0m\u001b[1;33m:\u001b[0m\u001b[1;33m\u001b[0m\u001b[1;33m\u001b[0m\u001b[0m\n\u001b[1;32m----> 2\u001b[1;33m     \u001b[0mpyautogui\u001b[0m\u001b[1;33m.\u001b[0m\u001b[0mmoveTo\u001b[0m\u001b[1;33m(\u001b[0m\u001b[1;36m100\u001b[0m\u001b[1;33m,\u001b[0m \u001b[1;36m100\u001b[0m\u001b[1;33m,\u001b[0m \u001b[0mduration\u001b[0m\u001b[1;33m=\u001b[0m\u001b[1;36m0.1\u001b[0m\u001b[1;33m)\u001b[0m\u001b[1;33m\u001b[0m\u001b[1;33m\u001b[0m\u001b[0m\n\u001b[0m\u001b[0;32m      3\u001b[0m     \u001b[0mpyautogui\u001b[0m\u001b[1;33m.\u001b[0m\u001b[0mmoveTo\u001b[0m\u001b[1;33m(\u001b[0m\u001b[1;36m1000\u001b[0m\u001b[1;33m,\u001b[0m \u001b[1;36m100\u001b[0m\u001b[1;33m,\u001b[0m \u001b[0mduration\u001b[0m\u001b[1;33m=\u001b[0m\u001b[1;36m1\u001b[0m\u001b[1;33m)\u001b[0m\u001b[1;33m\u001b[0m\u001b[1;33m\u001b[0m\u001b[0m\n\u001b[0;32m      4\u001b[0m     \u001b[0mpyautogui\u001b[0m\u001b[1;33m.\u001b[0m\u001b[0mmoveTo\u001b[0m\u001b[1;33m(\u001b[0m\u001b[1;36m1000\u001b[0m\u001b[1;33m,\u001b[0m \u001b[1;36m1000\u001b[0m\u001b[1;33m,\u001b[0m \u001b[0mduration\u001b[0m\u001b[1;33m=\u001b[0m\u001b[1;36m0\u001b[0m\u001b[1;33m)\u001b[0m\u001b[1;33m\u001b[0m\u001b[1;33m\u001b[0m\u001b[0m\n\u001b[0;32m      5\u001b[0m     \u001b[0mpyautogui\u001b[0m\u001b[1;33m.\u001b[0m\u001b[0mmoveTo\u001b[0m\u001b[1;33m(\u001b[0m\u001b[1;36m100\u001b[0m\u001b[1;33m,\u001b[0m \u001b[1;36m1000\u001b[0m\u001b[1;33m,\u001b[0m \u001b[0mduration\u001b[0m\u001b[1;33m=\u001b[0m\u001b[1;36m0\u001b[0m\u001b[1;33m)\u001b[0m\u001b[1;33m\u001b[0m\u001b[1;33m\u001b[0m\u001b[0m\n",
      "\u001b[1;32m~\\AppData\\Local\\Programs\\Python\\Python37\\lib\\site-packages\\pyautogui\\__init__.py\u001b[0m in \u001b[0;36mwrapper\u001b[1;34m(*args, **kwargs)\u001b[0m\n\u001b[0;32m    583\u001b[0m     \u001b[1;33m@\u001b[0m\u001b[0mfunctools\u001b[0m\u001b[1;33m.\u001b[0m\u001b[0mwraps\u001b[0m\u001b[1;33m(\u001b[0m\u001b[0mwrappedFunction\u001b[0m\u001b[1;33m)\u001b[0m\u001b[1;33m\u001b[0m\u001b[1;33m\u001b[0m\u001b[0m\n\u001b[0;32m    584\u001b[0m     \u001b[1;32mdef\u001b[0m \u001b[0mwrapper\u001b[0m\u001b[1;33m(\u001b[0m\u001b[1;33m*\u001b[0m\u001b[0margs\u001b[0m\u001b[1;33m,\u001b[0m \u001b[1;33m**\u001b[0m\u001b[0mkwargs\u001b[0m\u001b[1;33m)\u001b[0m\u001b[1;33m:\u001b[0m\u001b[1;33m\u001b[0m\u001b[1;33m\u001b[0m\u001b[0m\n\u001b[1;32m--> 585\u001b[1;33m         \u001b[0mfailSafeCheck\u001b[0m\u001b[1;33m(\u001b[0m\u001b[1;33m)\u001b[0m\u001b[1;33m\u001b[0m\u001b[1;33m\u001b[0m\u001b[0m\n\u001b[0m\u001b[0;32m    586\u001b[0m         \u001b[0mreturnVal\u001b[0m \u001b[1;33m=\u001b[0m \u001b[0mwrappedFunction\u001b[0m\u001b[1;33m(\u001b[0m\u001b[1;33m*\u001b[0m\u001b[0margs\u001b[0m\u001b[1;33m,\u001b[0m \u001b[1;33m**\u001b[0m\u001b[0mkwargs\u001b[0m\u001b[1;33m)\u001b[0m\u001b[1;33m\u001b[0m\u001b[1;33m\u001b[0m\u001b[0m\n\u001b[0;32m    587\u001b[0m         \u001b[0m_handlePause\u001b[0m\u001b[1;33m(\u001b[0m\u001b[0mkwargs\u001b[0m\u001b[1;33m.\u001b[0m\u001b[0mget\u001b[0m\u001b[1;33m(\u001b[0m\u001b[1;34m\"_pause\"\u001b[0m\u001b[1;33m,\u001b[0m \u001b[1;32mTrue\u001b[0m\u001b[1;33m)\u001b[0m\u001b[1;33m)\u001b[0m\u001b[1;33m\u001b[0m\u001b[1;33m\u001b[0m\u001b[0m\n",
      "\u001b[1;32m~\\AppData\\Local\\Programs\\Python\\Python37\\lib\\site-packages\\pyautogui\\__init__.py\u001b[0m in \u001b[0;36mfailSafeCheck\u001b[1;34m()\u001b[0m\n\u001b[0;32m   1709\u001b[0m     \u001b[1;32mif\u001b[0m \u001b[0mFAILSAFE\u001b[0m \u001b[1;32mand\u001b[0m \u001b[0mtuple\u001b[0m\u001b[1;33m(\u001b[0m\u001b[0mposition\u001b[0m\u001b[1;33m(\u001b[0m\u001b[1;33m)\u001b[0m\u001b[1;33m)\u001b[0m \u001b[1;32min\u001b[0m \u001b[0mFAILSAFE_POINTS\u001b[0m\u001b[1;33m:\u001b[0m\u001b[1;33m\u001b[0m\u001b[1;33m\u001b[0m\u001b[0m\n\u001b[0;32m   1710\u001b[0m         raise FailSafeException(\n\u001b[1;32m-> 1711\u001b[1;33m             \u001b[1;34m\"PyAutoGUI fail-safe triggered from mouse moving to a corner of the screen. To disable this fail-safe, set pyautogui.FAILSAFE to False. DISABLING FAIL-SAFE IS NOT RECOMMENDED.\"\u001b[0m\u001b[1;33m\u001b[0m\u001b[1;33m\u001b[0m\u001b[0m\n\u001b[0m\u001b[0;32m   1712\u001b[0m         )\n\u001b[0;32m   1713\u001b[0m \u001b[1;33m\u001b[0m\u001b[0m\n",
      "\u001b[1;31mFailSafeException\u001b[0m: PyAutoGUI fail-safe triggered from mouse moving to a corner of the screen. To disable this fail-safe, set pyautogui.FAILSAFE to False. DISABLING FAIL-SAFE IS NOT RECOMMENDED."
     ]
    }
   ],
   "source": [
    "for i in range(10):\n",
    "    pyautogui.moveTo(100, 100, duration=0.1)\n",
    "    pyautogui.moveTo(1000, 100, duration=1)\n",
    "    pyautogui.moveTo(1000, 1000, duration=0)\n",
    "    pyautogui.moveTo(100, 1000, duration=0)"
   ]
  },
  {
   "cell_type": "code",
   "execution_count": 21,
   "metadata": {},
   "outputs": [],
   "source": [
    "for i in range(10):\n",
    "    pyautogui.move(100, 0, duration=0.25)   # right\n",
    "    pyautogui.move(0, 100, duration=0.25)   # down\n",
    "    pyautogui.move(-100, 0, duration=0.25)  # left\n",
    "    pyautogui.move(0, -100, duration=0.25)  # up"
   ]
  },
  {
   "cell_type": "code",
   "execution_count": 24,
   "metadata": {},
   "outputs": [
    {
     "output_type": "execute_result",
     "data": {
      "text/plain": [
       "Point(x=383, y=359)"
      ]
     },
     "metadata": {},
     "execution_count": 24
    }
   ],
   "source": [
    "print(pyautogui.position())"
   ]
  },
  {
   "cell_type": "code",
   "execution_count": 26,
   "metadata": {},
   "outputs": [
    {
     "output_type": "stream",
     "name": "stdout",
     "text": [
      "Point(x=384, y=193)\n",
      "Point(x=484, y=193)\n",
      "Point(x=485, y=293)\n",
      "Point(x=385, y=293)\n",
      "Point(x=385, y=193)\n",
      "Point(x=485, y=193)\n",
      "Point(x=485, y=293)\n",
      "Point(x=385, y=293)\n",
      "Point(x=385, y=193)\n",
      "Point(x=485, y=193)\n",
      "Point(x=485, y=293)\n",
      "Point(x=385, y=293)\n",
      "Point(x=385, y=193)\n",
      "Point(x=485, y=193)\n",
      "Point(x=485, y=293)\n",
      "Point(x=385, y=293)\n"
     ]
    }
   ],
   "source": [
    "for i in range(4):\n",
    "    print(pyautogui.position())\n",
    "    pyautogui.move(100, 0, duration=0.05)   # right\n",
    "    print(pyautogui.position())\n",
    "    pyautogui.move(0, 100, duration=0.05)   # down\n",
    "    print(pyautogui.position())\n",
    "    pyautogui.move(-100, 0, duration=0.05)  # left\n",
    "    print(pyautogui.position())\n",
    "    pyautogui.move(0, -100, duration=0.05)  # up"
   ]
  },
  {
   "cell_type": "code",
   "execution_count": 29,
   "metadata": {},
   "outputs": [
    {
     "output_type": "execute_result",
     "data": {
      "text/plain": [
       "Point(x=385, y=297)"
      ]
     },
     "metadata": {},
     "execution_count": 29
    }
   ],
   "source": [
    "pyautogui.position()"
   ]
  },
  {
   "cell_type": "code",
   "execution_count": 28,
   "metadata": {},
   "outputs": [],
   "source": [
    "pyautogui.click(385, 297) # Move mouse to (10, 5) and click."
   ]
  },
  {
   "cell_type": "code",
   "execution_count": 34,
   "metadata": {},
   "outputs": [],
   "source": [
    "pyautogui.mouseDown()\n",
    "pyautogui.mouseUp()"
   ]
  },
  {
   "cell_type": "code",
   "execution_count": 36,
   "metadata": {},
   "outputs": [
    {
     "output_type": "execute_result",
     "data": {
      "text/plain": [
       "Point(x=1026, y=248)"
      ]
     },
     "metadata": {},
     "execution_count": 36
    }
   ],
   "source": [
    "import time\n",
    "time.sleep(3)\n",
    "pyautogui.position()"
   ]
  },
  {
   "cell_type": "code",
   "execution_count": 44,
   "metadata": {},
   "outputs": [],
   "source": [
    "import time\n",
    "pyautogui.moveTo(1026,248)\n",
    "pyautogui.click()\n",
    "distance = 300\n",
    "change = 20\n",
    "while distance > 0:\n",
    "    pyautogui.drag(distance, 0, duration=1.5)\n",
    "    distance = distance - change\n",
    "    pyautogui.drag(0, distance, duration=1.5)\n",
    "    pyautogui.drag(-distance, 0, duration=1.5)\n",
    "    distance = distance - change\n",
    "    pyautogui.drag(0, -distance, duration=1.5) "
   ]
  },
  {
   "cell_type": "code",
   "execution_count": 46,
   "metadata": {},
   "outputs": [],
   "source": [
    "pyautogui.scroll(200)"
   ]
  },
  {
   "cell_type": "code",
   "execution_count": 47,
   "metadata": {},
   "outputs": [],
   "source": [
    "pyautogui.mouseInfo()"
   ]
  },
  {
   "cell_type": "code",
   "execution_count": null,
   "metadata": {},
   "outputs": [],
   "source": [
    "540,1045 57,76,84 #394C54"
   ]
  },
  {
   "cell_type": "code",
   "execution_count": 48,
   "metadata": {},
   "outputs": [
    {
     "output_type": "execute_result",
     "data": {
      "text/plain": [
       "1605777151.682745"
      ]
     },
     "metadata": {},
     "execution_count": 48
    }
   ],
   "source": [
    "time.time()"
   ]
  },
  {
   "source": [
    "# Working with the Screen\n",
    "- Przejście do działu 17"
   ],
   "cell_type": "markdown",
   "metadata": {}
  },
  {
   "source": [
    "# 17"
   ],
   "cell_type": "markdown",
   "metadata": {}
  },
  {
   "cell_type": "code",
   "execution_count": 49,
   "metadata": {},
   "outputs": [
    {
     "output_type": "stream",
     "name": "stdout",
     "text": [
      "The result is 456569 digits long.\nTook 2.459810256958008 seconds to calculate.\n"
     ]
    }
   ],
   "source": [
    "import time\n",
    "def calcProd():\n",
    "    product = 1\n",
    "    for i in range(1, 100000):\n",
    "        product = product * i\n",
    "    return product\n",
    "\n",
    "startTime = time.time()\n",
    "prod = calcProd()\n",
    "endTime = time.time()\n",
    "print('The result is %s digits long.' % (len(str(prod))))\n",
    "print('Took %s seconds to calculate.' % (endTime - startTime))"
   ]
  },
  {
   "cell_type": "code",
   "execution_count": 50,
   "metadata": {},
   "outputs": [
    {
     "output_type": "execute_result",
     "data": {
      "text/plain": [
       "'Thu Nov 19 10:15:50 2020'"
      ]
     },
     "metadata": {},
     "execution_count": 50
    }
   ],
   "source": [
    "time.ctime()"
   ]
  },
  {
   "cell_type": "code",
   "execution_count": 65,
   "metadata": {},
   "outputs": [
    {
     "output_type": "stream",
     "name": "stdout",
     "text": [
      "Thu Nov 19 10:18:03 2020\nThu Nov 19 10:18:03 2020\n"
     ]
    }
   ],
   "source": [
    "now = time.time()\n",
    "print(time.ctime(now))\n",
    "print(time.ctime(round(now)))"
   ]
  },
  {
   "cell_type": "code",
   "execution_count": 66,
   "metadata": {},
   "outputs": [
    {
     "output_type": "execute_result",
     "data": {
      "text/plain": [
       "datetime.datetime(2020, 11, 19, 10, 24, 13, 927009)"
      ]
     },
     "metadata": {},
     "execution_count": 66
    }
   ],
   "source": [
    "import datetime\n",
    "datetime.datetime.now()"
   ]
  },
  {
   "cell_type": "code",
   "execution_count": 67,
   "metadata": {},
   "outputs": [
    {
     "output_type": "execute_result",
     "data": {
      "text/plain": [
       "(2019, 10, 21)"
      ]
     },
     "metadata": {},
     "execution_count": 67
    }
   ],
   "source": [
    "dt = datetime.datetime(2019, 10, 21, 16, 29, 0)\n",
    "dt.year, dt.month, dt.day"
   ]
  },
  {
   "cell_type": "code",
   "execution_count": 68,
   "metadata": {},
   "outputs": [
    {
     "output_type": "execute_result",
     "data": {
      "text/plain": [
       "(16, 29, 0)"
      ]
     },
     "metadata": {},
     "execution_count": 68
    }
   ],
   "source": [
    "dt.hour, dt.minute, dt.second"
   ]
  },
  {
   "cell_type": "code",
   "execution_count": 69,
   "metadata": {},
   "outputs": [
    {
     "output_type": "execute_result",
     "data": {
      "text/plain": [
       "datetime.datetime(1970, 1, 12, 14, 46, 40)"
      ]
     },
     "metadata": {},
     "execution_count": 69
    }
   ],
   "source": [
    "datetime.datetime.fromtimestamp(1000000)"
   ]
  },
  {
   "cell_type": "code",
   "execution_count": 70,
   "metadata": {},
   "outputs": [
    {
     "output_type": "execute_result",
     "data": {
      "text/plain": [
       "datetime.datetime(2020, 11, 19, 10, 24, 56, 961566)"
      ]
     },
     "metadata": {},
     "execution_count": 70
    }
   ],
   "source": [
    "datetime.datetime.fromtimestamp(time.time())"
   ]
  },
  {
   "cell_type": "code",
   "execution_count": 71,
   "metadata": {},
   "outputs": [],
   "source": [
    "oct31_2019 = datetime.datetime(2019, 10, 31, 0, 0, 0)\n",
    "halloween2019 = oct31_2019\n",
    "newyears2020 = datetime.datetime(2020, 1, 1, 0, 0, 0)"
   ]
  },
  {
   "cell_type": "code",
   "execution_count": 72,
   "metadata": {},
   "outputs": [
    {
     "output_type": "execute_result",
     "data": {
      "text/plain": [
       "False"
      ]
     },
     "metadata": {},
     "execution_count": 72
    }
   ],
   "source": [
    "halloween2019 > newyears2020"
   ]
  },
  {
   "cell_type": "code",
   "execution_count": 73,
   "metadata": {},
   "outputs": [],
   "source": [
    "delta = datetime.timedelta(days=11, hours=10, minutes=9, seconds=8)\n"
   ]
  },
  {
   "cell_type": "code",
   "execution_count": 74,
   "metadata": {},
   "outputs": [
    {
     "output_type": "execute_result",
     "data": {
      "text/plain": [
       "(11, 36548, 0)"
      ]
     },
     "metadata": {},
     "execution_count": 74
    }
   ],
   "source": [
    "delta.days, delta.seconds, delta.microseconds"
   ]
  },
  {
   "cell_type": "code",
   "execution_count": 75,
   "metadata": {},
   "outputs": [
    {
     "output_type": "execute_result",
     "data": {
      "text/plain": [
       "986948.0"
      ]
     },
     "metadata": {},
     "execution_count": 75
    }
   ],
   "source": [
    "delta.total_seconds()"
   ]
  },
  {
   "cell_type": "code",
   "execution_count": 76,
   "metadata": {},
   "outputs": [
    {
     "output_type": "execute_result",
     "data": {
      "text/plain": [
       "11"
      ]
     },
     "metadata": {},
     "execution_count": 76
    }
   ],
   "source": [
    "delta.days"
   ]
  },
  {
   "cell_type": "code",
   "execution_count": 77,
   "metadata": {},
   "outputs": [
    {
     "output_type": "execute_result",
     "data": {
      "text/plain": [
       "36548"
      ]
     },
     "metadata": {},
     "execution_count": 77
    }
   ],
   "source": [
    "delta.seconds"
   ]
  },
  {
   "cell_type": "code",
   "execution_count": 7,
   "metadata": {},
   "outputs": [],
   "source": [
    "import datetime\n",
    "oct21st = datetime.datetime(2019, 10, 21, 16, 29, 0)"
   ]
  },
  {
   "cell_type": "code",
   "execution_count": 8,
   "metadata": {},
   "outputs": [
    {
     "output_type": "execute_result",
     "data": {
      "text/plain": [
       "'2019/10/21 16:29:00'"
      ]
     },
     "metadata": {},
     "execution_count": 8
    }
   ],
   "source": [
    "oct21st.strftime('%Y/%m/%d %H:%M:%S')"
   ]
  },
  {
   "cell_type": "code",
   "execution_count": 9,
   "metadata": {},
   "outputs": [
    {
     "output_type": "execute_result",
     "data": {
      "text/plain": [
       "'04:29 PM'"
      ]
     },
     "metadata": {},
     "execution_count": 9
    }
   ],
   "source": [
    "oct21st.strftime('%I:%M %p')"
   ]
  },
  {
   "cell_type": "code",
   "execution_count": 10,
   "metadata": {},
   "outputs": [
    {
     "output_type": "execute_result",
     "data": {
      "text/plain": [
       "\"October of '19\""
      ]
     },
     "metadata": {},
     "execution_count": 10
    }
   ],
   "source": [
    "oct21st.strftime(\"%B of '%y\")"
   ]
  },
  {
   "source": [
    "strftime() directive            Meaning\n",
    "%Y                              Year with century, as in '2014'\n",
    "%y                              Year without century, '00' to '99' (1970 to 2069)\n",
    "%m                              Month as a decimal number, '01' to '12'\n",
    "%B                              Full month name, as in 'November'\n",
    "%b                              Abbreviated month name, as in 'Nov'\n",
    "%d                              Day of the month, '01' to '31'\n",
    "%j                              Day of the year, '001' to '366'\n",
    "%w                              Day of the week, '0' (Sunday) to '6' (Saturday)\n",
    "%A                              Full weekday name, as in 'Monday'\n",
    "%a                              Abbreviated weekday name, as in 'Mon'\n",
    "%H                              Hour (24-hour clock), '00' to '23'\n",
    "%I                              Hour (12-hour clock), '01' to '12'\n",
    "%M                              Minute, '00' to '59'\n",
    "%S                              Second, '00' to '59'\n",
    "%p                              'AM' or 'PM'\n",
    "%%                              Literal '%' character"
   ],
   "cell_type": "markdown",
   "metadata": {}
  },
  {
   "cell_type": "code",
   "execution_count": 11,
   "metadata": {},
   "outputs": [
    {
     "output_type": "execute_result",
     "data": {
      "text/plain": [
       "datetime.datetime(2019, 10, 21, 0, 0)"
      ]
     },
     "metadata": {},
     "execution_count": 11
    }
   ],
   "source": [
    "datetime.datetime.strptime('October 21, 2019', '%B %d, %Y')"
   ]
  },
  {
   "cell_type": "code",
   "execution_count": 12,
   "metadata": {},
   "outputs": [
    {
     "output_type": "execute_result",
     "data": {
      "text/plain": [
       "datetime.datetime(2019, 10, 21, 16, 29)"
      ]
     },
     "metadata": {},
     "execution_count": 12
    }
   ],
   "source": [
    "datetime.datetime.strptime('2019/10/21 16:29:00', '%Y/%m/%d %H:%M:%S')"
   ]
  },
  {
   "cell_type": "code",
   "execution_count": 13,
   "metadata": {},
   "outputs": [
    {
     "output_type": "execute_result",
     "data": {
      "text/plain": [
       "datetime.datetime(2019, 10, 1, 0, 0)"
      ]
     },
     "metadata": {},
     "execution_count": 13
    }
   ],
   "source": [
    "datetime.datetime.strptime(\"October of '19\", \"%B of '%y\")"
   ]
  },
  {
   "cell_type": "code",
   "execution_count": 14,
   "metadata": {},
   "outputs": [
    {
     "output_type": "execute_result",
     "data": {
      "text/plain": [
       "datetime.datetime(2063, 11, 1, 0, 0)"
      ]
     },
     "metadata": {},
     "execution_count": 14
    }
   ],
   "source": [
    "datetime.datetime.strptime(\"November of '63\", \"%B of '%y\")"
   ]
  },
  {
   "source": [
    "# Project: Multithreaded XKCD Downloader\n",
    "- przejście do 12 rozdziału"
   ],
   "cell_type": "markdown",
   "metadata": {}
  }
 ]
}